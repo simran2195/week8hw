{
 "cells": [
  {
   "cell_type": "code",
   "execution_count": 33,
   "id": "89fec323",
   "metadata": {
    "ExecuteTime": {
     "end_time": "2022-12-04T08:59:49.404925Z",
     "start_time": "2022-12-04T08:59:48.625615Z"
    }
   },
   "outputs": [],
   "source": [
    "import numpy as np\n",
    "import pandas as pd\n",
    "import matplotlib.pyplot as plt"
   ]
  },
  {
   "cell_type": "code",
   "execution_count": 29,
   "id": "7faf9ee1",
   "metadata": {
    "ExecuteTime": {
     "end_time": "2022-12-04T08:44:44.619576Z",
     "start_time": "2022-12-04T08:44:44.578993Z"
    }
   },
   "outputs": [],
   "source": [
    "# read CSV\n",
    "\n",
    "game_data = pd.read_csv(\"/Users/admin/Desktop/UW MSTI/Quarter 1/Tech Foundations/week8hw/database.csv\")\n",
    "game_data = game_data.drop('Unnamed: 0', axis=1)\n"
   ]
  },
  {
   "cell_type": "code",
   "execution_count": 30,
   "id": "7ba2ec6e",
   "metadata": {
    "ExecuteTime": {
     "end_time": "2022-12-04T08:44:45.346275Z",
     "start_time": "2022-12-04T08:44:45.322208Z"
    }
   },
   "outputs": [
    {
     "data": {
      "text/html": [
       "<div>\n",
       "<style scoped>\n",
       "    .dataframe tbody tr th:only-of-type {\n",
       "        vertical-align: middle;\n",
       "    }\n",
       "\n",
       "    .dataframe tbody tr th {\n",
       "        vertical-align: top;\n",
       "    }\n",
       "\n",
       "    .dataframe thead th {\n",
       "        text-align: right;\n",
       "    }\n",
       "</style>\n",
       "<table border=\"1\" class=\"dataframe\">\n",
       "  <thead>\n",
       "    <tr style=\"text-align: right;\">\n",
       "      <th></th>\n",
       "      <th>Player 1</th>\n",
       "      <th>Player 2</th>\n",
       "      <th>winner</th>\n",
       "    </tr>\n",
       "  </thead>\n",
       "  <tbody>\n",
       "    <tr>\n",
       "      <th>0</th>\n",
       "      <td>X</td>\n",
       "      <td>O</td>\n",
       "      <td>O</td>\n",
       "    </tr>\n",
       "    <tr>\n",
       "      <th>1</th>\n",
       "      <td>X</td>\n",
       "      <td>O</td>\n",
       "      <td>X</td>\n",
       "    </tr>\n",
       "    <tr>\n",
       "      <th>2</th>\n",
       "      <td>X</td>\n",
       "      <td>O</td>\n",
       "      <td>O</td>\n",
       "    </tr>\n",
       "    <tr>\n",
       "      <th>3</th>\n",
       "      <td>X</td>\n",
       "      <td>O</td>\n",
       "      <td>O</td>\n",
       "    </tr>\n",
       "    <tr>\n",
       "      <th>4</th>\n",
       "      <td>X</td>\n",
       "      <td>O</td>\n",
       "      <td>X</td>\n",
       "    </tr>\n",
       "    <tr>\n",
       "      <th>...</th>\n",
       "      <td>...</td>\n",
       "      <td>...</td>\n",
       "      <td>...</td>\n",
       "    </tr>\n",
       "    <tr>\n",
       "      <th>77</th>\n",
       "      <td>X</td>\n",
       "      <td>O</td>\n",
       "      <td>O</td>\n",
       "    </tr>\n",
       "    <tr>\n",
       "      <th>78</th>\n",
       "      <td>X</td>\n",
       "      <td>O</td>\n",
       "      <td>O</td>\n",
       "    </tr>\n",
       "    <tr>\n",
       "      <th>79</th>\n",
       "      <td>X</td>\n",
       "      <td>O</td>\n",
       "      <td>O</td>\n",
       "    </tr>\n",
       "    <tr>\n",
       "      <th>80</th>\n",
       "      <td>X</td>\n",
       "      <td>O</td>\n",
       "      <td>Draw</td>\n",
       "    </tr>\n",
       "    <tr>\n",
       "      <th>81</th>\n",
       "      <td>X</td>\n",
       "      <td>O</td>\n",
       "      <td>X</td>\n",
       "    </tr>\n",
       "  </tbody>\n",
       "</table>\n",
       "<p>82 rows × 3 columns</p>\n",
       "</div>"
      ],
      "text/plain": [
       "   Player 1 Player 2 winner\n",
       "0         X        O      O\n",
       "1         X        O      X\n",
       "2         X        O      O\n",
       "3         X        O      O\n",
       "4         X        O      X\n",
       "..      ...      ...    ...\n",
       "77        X        O      O\n",
       "78        X        O      O\n",
       "79        X        O      O\n",
       "80        X        O   Draw\n",
       "81        X        O      X\n",
       "\n",
       "[82 rows x 3 columns]"
      ]
     },
     "execution_count": 30,
     "metadata": {},
     "output_type": "execute_result"
    }
   ],
   "source": [
    "game_data"
   ]
  },
  {
   "cell_type": "code",
   "execution_count": 31,
   "id": "4459955c",
   "metadata": {
    "ExecuteTime": {
     "end_time": "2022-12-04T08:44:47.654422Z",
     "start_time": "2022-12-04T08:44:47.635556Z"
    }
   },
   "outputs": [
    {
     "name": "stdout",
     "output_type": "stream",
     "text": [
      "Total historic games =  82\n",
      "Total wins of player O =  40  ->  48.78048780487805 %\n",
      "Total wins of player X =  41  ->  50.0 %\n",
      "Total number of draws =  1  ->  1.2195121951219512 %\n"
     ]
    }
   ],
   "source": [
    "print(\"Total historic games = \", len(game_data))\n",
    "total_games = len(game_data)\n",
    "O_wins = len(game_data.loc[game_data['winner'] == 'O'])\n",
    "X_wins = len(game_data.loc[game_data['winner'] == 'X'])\n",
    "draws = len(game_data.loc[game_data['winner'] == 'Draw'])\n",
    "print(\"Total wins of player O = \", O_wins, \" -> \", (O_wins/total_games)*100 ,\"%\")\n",
    "print(\"Total wins of player X = \", X_wins, \" -> \", (X_wins/total_games)*100 ,\"%\")\n",
    "print(\"Total number of draws = \", draws, \" -> \", (draws/total_games)*100 ,\"%\")\n",
    "                                                                                                         \n",
    "                                                                                                         "
   ]
  },
  {
   "cell_type": "markdown",
   "id": "ec370fbb",
   "metadata": {},
   "source": [
    "# Plots"
   ]
  },
  {
   "cell_type": "code",
   "execution_count": null,
   "id": "d30a7670",
   "metadata": {
    "ExecuteTime": {
     "end_time": "2022-12-04T09:02:32.938674Z",
     "start_time": "2022-12-04T09:02:32.676720Z"
    }
   },
   "outputs": [],
   "source": [
    "import numpy as np\n",
    "import matplotlib.pyplot as plt\n",
    "\n",
    "x = np.linspace(0.0,100,50)\n",
    "y = np.random.uniform(low=0,high=10,size=50)\n",
    "\n",
    "plt.plot(x,y)\n",
    "\n",
    "# rotating labels on the xaxis\n",
    "plt.xticks(rotation=60)\n",
    "# y axis\n",
    "plt.yticks(rotation=60)"
   ]
  },
  {
   "cell_type": "code",
   "execution_count": null,
   "id": "ccdd09bd",
   "metadata": {},
   "outputs": [],
   "source": []
  }
 ],
 "metadata": {
  "kernelspec": {
   "display_name": "Python 3",
   "language": "python",
   "name": "python3"
  },
  "language_info": {
   "codemirror_mode": {
    "name": "ipython",
    "version": 3
   },
   "file_extension": ".py",
   "mimetype": "text/x-python",
   "name": "python",
   "nbconvert_exporter": "python",
   "pygments_lexer": "ipython3",
   "version": "3.8.8"
  },
  "toc": {
   "base_numbering": 1,
   "nav_menu": {},
   "number_sections": true,
   "sideBar": true,
   "skip_h1_title": false,
   "title_cell": "Table of Contents",
   "title_sidebar": "Contents",
   "toc_cell": false,
   "toc_position": {},
   "toc_section_display": true,
   "toc_window_display": false
  }
 },
 "nbformat": 4,
 "nbformat_minor": 5
}
