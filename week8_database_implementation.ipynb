{
 "cells": [
  {
   "cell_type": "code",
   "execution_count": 105,
   "id": "89fec323",
   "metadata": {
    "ExecuteTime": {
     "end_time": "2022-12-04T23:21:27.849911Z",
     "start_time": "2022-12-04T23:21:27.827175Z"
    }
   },
   "outputs": [],
   "source": [
    "import numpy as np\n",
    "import pandas as pd\n",
    "import matplotlib.pyplot as plt\n",
    "import seaborn as sns\n",
    "import matplotlib.colors as mcolors\n",
    "plt.style.use('default')\n",
    "\n",
    "import random\n",
    "\n",
    "from pywaffle import Waffle\n"
   ]
  },
  {
   "cell_type": "code",
   "execution_count": 106,
   "id": "a6d00126",
   "metadata": {
    "ExecuteTime": {
     "end_time": "2022-12-04T23:21:31.359903Z",
     "start_time": "2022-12-04T23:21:31.356274Z"
    }
   },
   "outputs": [],
   "source": [
    "# !pip install pywaffle"
   ]
  },
  {
   "cell_type": "code",
   "execution_count": 107,
   "id": "7faf9ee1",
   "metadata": {
    "ExecuteTime": {
     "end_time": "2022-12-04T23:21:33.358104Z",
     "start_time": "2022-12-04T23:21:33.295213Z"
    }
   },
   "outputs": [],
   "source": [
    "# read CSV\n",
    "\n",
    "game_data = pd.read_csv(\"/Users/admin/Desktop/UW MSTI/Quarter 1/Tech Foundations/week8hw/database.csv\")\n",
    "game_data = game_data.drop('Unnamed: 0', axis=1)\n"
   ]
  },
  {
   "cell_type": "code",
   "execution_count": 108,
   "id": "61192a50",
   "metadata": {
    "ExecuteTime": {
     "end_time": "2022-12-04T23:21:33.982255Z",
     "start_time": "2022-12-04T23:21:33.959946Z"
    }
   },
   "outputs": [
    {
     "data": {
      "text/html": [
       "<div>\n",
       "<style scoped>\n",
       "    .dataframe tbody tr th:only-of-type {\n",
       "        vertical-align: middle;\n",
       "    }\n",
       "\n",
       "    .dataframe tbody tr th {\n",
       "        vertical-align: top;\n",
       "    }\n",
       "\n",
       "    .dataframe thead th {\n",
       "        text-align: right;\n",
       "    }\n",
       "</style>\n",
       "<table border=\"1\" class=\"dataframe\">\n",
       "  <thead>\n",
       "    <tr style=\"text-align: right;\">\n",
       "      <th></th>\n",
       "      <th>Player 1</th>\n",
       "      <th>Player 2</th>\n",
       "      <th>winner</th>\n",
       "    </tr>\n",
       "  </thead>\n",
       "  <tbody>\n",
       "    <tr>\n",
       "      <th>0</th>\n",
       "      <td>mavis</td>\n",
       "      <td>sampada</td>\n",
       "      <td>mavis</td>\n",
       "    </tr>\n",
       "    <tr>\n",
       "      <th>1</th>\n",
       "      <td>hritik</td>\n",
       "      <td>sampada</td>\n",
       "      <td>sampada</td>\n",
       "    </tr>\n",
       "    <tr>\n",
       "      <th>2</th>\n",
       "      <td>hritik</td>\n",
       "      <td>sumedh</td>\n",
       "      <td>sumedh</td>\n",
       "    </tr>\n",
       "    <tr>\n",
       "      <th>3</th>\n",
       "      <td>mavis</td>\n",
       "      <td>vivek</td>\n",
       "      <td>mavis</td>\n",
       "    </tr>\n",
       "    <tr>\n",
       "      <th>4</th>\n",
       "      <td>raj</td>\n",
       "      <td>charu</td>\n",
       "      <td>charu</td>\n",
       "    </tr>\n",
       "    <tr>\n",
       "      <th>5</th>\n",
       "      <td>udiksha</td>\n",
       "      <td>charu</td>\n",
       "      <td>charu</td>\n",
       "    </tr>\n",
       "    <tr>\n",
       "      <th>6</th>\n",
       "      <td>simran</td>\n",
       "      <td>vivek</td>\n",
       "      <td>vivek</td>\n",
       "    </tr>\n",
       "    <tr>\n",
       "      <th>7</th>\n",
       "      <td>raj</td>\n",
       "      <td>charu</td>\n",
       "      <td>charu</td>\n",
       "    </tr>\n",
       "    <tr>\n",
       "      <th>8</th>\n",
       "      <td>hritik</td>\n",
       "      <td>sumedh</td>\n",
       "      <td>sumedh</td>\n",
       "    </tr>\n",
       "    <tr>\n",
       "      <th>9</th>\n",
       "      <td>hritik</td>\n",
       "      <td>jungmin</td>\n",
       "      <td>jungmin</td>\n",
       "    </tr>\n",
       "    <tr>\n",
       "      <th>10</th>\n",
       "      <td>simran</td>\n",
       "      <td>sumedh</td>\n",
       "      <td>simran</td>\n",
       "    </tr>\n",
       "    <tr>\n",
       "      <th>11</th>\n",
       "      <td>mavis</td>\n",
       "      <td>sampada</td>\n",
       "      <td>mavis</td>\n",
       "    </tr>\n",
       "    <tr>\n",
       "      <th>12</th>\n",
       "      <td>mavis</td>\n",
       "      <td>jungmin</td>\n",
       "      <td>mavis</td>\n",
       "    </tr>\n",
       "    <tr>\n",
       "      <th>13</th>\n",
       "      <td>udiksha</td>\n",
       "      <td>sumedh</td>\n",
       "      <td>sumedh</td>\n",
       "    </tr>\n",
       "    <tr>\n",
       "      <th>14</th>\n",
       "      <td>simran</td>\n",
       "      <td>jungmin</td>\n",
       "      <td>simran</td>\n",
       "    </tr>\n",
       "    <tr>\n",
       "      <th>15</th>\n",
       "      <td>udiksha</td>\n",
       "      <td>charu</td>\n",
       "      <td>udiksha</td>\n",
       "    </tr>\n",
       "    <tr>\n",
       "      <th>16</th>\n",
       "      <td>mavis</td>\n",
       "      <td>sampada</td>\n",
       "      <td>mavis</td>\n",
       "    </tr>\n",
       "    <tr>\n",
       "      <th>17</th>\n",
       "      <td>hritik</td>\n",
       "      <td>sumedh</td>\n",
       "      <td>sumedh</td>\n",
       "    </tr>\n",
       "    <tr>\n",
       "      <th>18</th>\n",
       "      <td>raj</td>\n",
       "      <td>charu</td>\n",
       "      <td>raj</td>\n",
       "    </tr>\n",
       "    <tr>\n",
       "      <th>19</th>\n",
       "      <td>udiksha</td>\n",
       "      <td>vivek</td>\n",
       "      <td>udiksha</td>\n",
       "    </tr>\n",
       "    <tr>\n",
       "      <th>20</th>\n",
       "      <td>simran</td>\n",
       "      <td>sampada</td>\n",
       "      <td>sampada</td>\n",
       "    </tr>\n",
       "    <tr>\n",
       "      <th>21</th>\n",
       "      <td>raj</td>\n",
       "      <td>charu</td>\n",
       "      <td>raj</td>\n",
       "    </tr>\n",
       "    <tr>\n",
       "      <th>22</th>\n",
       "      <td>simran</td>\n",
       "      <td>charu</td>\n",
       "      <td>charu</td>\n",
       "    </tr>\n",
       "    <tr>\n",
       "      <th>23</th>\n",
       "      <td>udiksha</td>\n",
       "      <td>sumedh</td>\n",
       "      <td>udiksha</td>\n",
       "    </tr>\n",
       "    <tr>\n",
       "      <th>24</th>\n",
       "      <td>raj</td>\n",
       "      <td>zahra</td>\n",
       "      <td>zahra</td>\n",
       "    </tr>\n",
       "    <tr>\n",
       "      <th>25</th>\n",
       "      <td>udiksha</td>\n",
       "      <td>zahra</td>\n",
       "      <td>udiksha</td>\n",
       "    </tr>\n",
       "    <tr>\n",
       "      <th>26</th>\n",
       "      <td>raj</td>\n",
       "      <td>charu</td>\n",
       "      <td>raj</td>\n",
       "    </tr>\n",
       "    <tr>\n",
       "      <th>27</th>\n",
       "      <td>hritik</td>\n",
       "      <td>zahra</td>\n",
       "      <td>hritik</td>\n",
       "    </tr>\n",
       "    <tr>\n",
       "      <th>28</th>\n",
       "      <td>mavis</td>\n",
       "      <td>sumedh</td>\n",
       "      <td>mavis</td>\n",
       "    </tr>\n",
       "    <tr>\n",
       "      <th>29</th>\n",
       "      <td>udiksha</td>\n",
       "      <td>sumedh</td>\n",
       "      <td>udiksha</td>\n",
       "    </tr>\n",
       "    <tr>\n",
       "      <th>30</th>\n",
       "      <td>hritik</td>\n",
       "      <td>charu</td>\n",
       "      <td>hritik</td>\n",
       "    </tr>\n",
       "    <tr>\n",
       "      <th>31</th>\n",
       "      <td>hritik</td>\n",
       "      <td>sumedh</td>\n",
       "      <td>sumedh</td>\n",
       "    </tr>\n",
       "    <tr>\n",
       "      <th>32</th>\n",
       "      <td>raj</td>\n",
       "      <td>zahra</td>\n",
       "      <td>raj</td>\n",
       "    </tr>\n",
       "    <tr>\n",
       "      <th>33</th>\n",
       "      <td>udiksha</td>\n",
       "      <td>sampada</td>\n",
       "      <td>sampada</td>\n",
       "    </tr>\n",
       "    <tr>\n",
       "      <th>34</th>\n",
       "      <td>raj</td>\n",
       "      <td>sampada</td>\n",
       "      <td>raj</td>\n",
       "    </tr>\n",
       "    <tr>\n",
       "      <th>35</th>\n",
       "      <td>udiksha</td>\n",
       "      <td>zahra</td>\n",
       "      <td>udiksha</td>\n",
       "    </tr>\n",
       "    <tr>\n",
       "      <th>36</th>\n",
       "      <td>mavis</td>\n",
       "      <td>vivek</td>\n",
       "      <td>mavis</td>\n",
       "    </tr>\n",
       "    <tr>\n",
       "      <th>37</th>\n",
       "      <td>raj</td>\n",
       "      <td>charu</td>\n",
       "      <td>raj</td>\n",
       "    </tr>\n",
       "    <tr>\n",
       "      <th>38</th>\n",
       "      <td>hritik</td>\n",
       "      <td>zahra</td>\n",
       "      <td>hritik</td>\n",
       "    </tr>\n",
       "    <tr>\n",
       "      <th>39</th>\n",
       "      <td>hritik</td>\n",
       "      <td>charu</td>\n",
       "      <td>charu</td>\n",
       "    </tr>\n",
       "  </tbody>\n",
       "</table>\n",
       "</div>"
      ],
      "text/plain": [
       "   Player 1 Player 2   winner\n",
       "0     mavis  sampada    mavis\n",
       "1    hritik  sampada  sampada\n",
       "2    hritik   sumedh   sumedh\n",
       "3     mavis    vivek    mavis\n",
       "4       raj    charu    charu\n",
       "5   udiksha    charu    charu\n",
       "6    simran    vivek    vivek\n",
       "7       raj    charu    charu\n",
       "8    hritik   sumedh   sumedh\n",
       "9    hritik  jungmin  jungmin\n",
       "10   simran   sumedh   simran\n",
       "11    mavis  sampada    mavis\n",
       "12    mavis  jungmin    mavis\n",
       "13  udiksha   sumedh   sumedh\n",
       "14   simran  jungmin   simran\n",
       "15  udiksha    charu  udiksha\n",
       "16    mavis  sampada    mavis\n",
       "17   hritik   sumedh   sumedh\n",
       "18      raj    charu      raj\n",
       "19  udiksha    vivek  udiksha\n",
       "20   simran  sampada  sampada\n",
       "21      raj    charu      raj\n",
       "22   simran    charu    charu\n",
       "23  udiksha   sumedh  udiksha\n",
       "24      raj    zahra    zahra\n",
       "25  udiksha    zahra  udiksha\n",
       "26      raj    charu      raj\n",
       "27   hritik    zahra   hritik\n",
       "28    mavis   sumedh    mavis\n",
       "29  udiksha   sumedh  udiksha\n",
       "30   hritik    charu   hritik\n",
       "31   hritik   sumedh   sumedh\n",
       "32      raj    zahra      raj\n",
       "33  udiksha  sampada  sampada\n",
       "34      raj  sampada      raj\n",
       "35  udiksha    zahra  udiksha\n",
       "36    mavis    vivek    mavis\n",
       "37      raj    charu      raj\n",
       "38   hritik    zahra   hritik\n",
       "39   hritik    charu    charu"
      ]
     },
     "execution_count": 108,
     "metadata": {},
     "output_type": "execute_result"
    }
   ],
   "source": [
    "game_data"
   ]
  },
  {
   "cell_type": "code",
   "execution_count": 109,
   "id": "32aa1b7d",
   "metadata": {
    "ExecuteTime": {
     "end_time": "2022-12-04T23:21:40.216090Z",
     "start_time": "2022-12-04T23:21:40.197210Z"
    }
   },
   "outputs": [
    {
     "name": "stdout",
     "output_type": "stream",
     "text": [
      "Total historic games =  40\n",
      "\n",
      "Top player ranking: \n",
      "Rank  1  ->  mavis\n",
      "Rank  2  ->  udiksha\n",
      "Rank  3  ->  raj\n",
      "Rank  4  ->  sumedh\n",
      "Rank  5  ->  charu\n",
      "Rank  6  ->  sampada\n",
      "Rank  7  ->  hritik\n",
      "Rank  8  ->  simran\n",
      "Rank  9  ->  vivek\n",
      "Rank  10  ->  jungmin\n"
     ]
    }
   ],
   "source": [
    "print(\"Total historic games = \", len(game_data))\n",
    "total_games = len(game_data)\n",
    "# O_wins = len(game_data.loc[game_data['winner'] == 'O'])\n",
    "# X_wins = len(game_data.loc[game_data['winner'] == 'X'])\n",
    "# draws = len(game_data.loc[game_data['winner'] == 'Draw'])\n",
    "# print(\"Total wins of player O = \", O_wins, \" -> \", (O_wins/total_games)*100 ,\"%\")\n",
    "# print(\"Total wins of player X = \", X_wins, \" -> \", (X_wins/total_games)*100 ,\"%\")\n",
    "# print(\"Total number of draws = \", draws, \" -> \", (draws/total_games)*100 ,\"%\")\n",
    "\n",
    "game_stats = game_data['winner'].value_counts()\n",
    "\n",
    "print(\"\\nTop player ranking: \")\n",
    "for i in range(0,len(game_stats.index)-1):\n",
    "    print(\"Rank \", i+1, \" -> \", game_stats.index[i])\n",
    "                                                                                                         "
   ]
  },
  {
   "cell_type": "code",
   "execution_count": null,
   "id": "c6aee629",
   "metadata": {
    "ExecuteTime": {
     "end_time": "2022-12-04T23:21:44.676681Z",
     "start_time": "2022-12-04T23:21:44.669426Z"
    }
   },
   "outputs": [],
   "source": []
  },
  {
   "cell_type": "code",
   "execution_count": 111,
   "id": "fec41acd",
   "metadata": {
    "ExecuteTime": {
     "end_time": "2022-12-04T23:21:48.081346Z",
     "start_time": "2022-12-04T23:21:48.070529Z"
    }
   },
   "outputs": [
    {
     "data": {
      "text/plain": [
       "mavis      7\n",
       "udiksha    6\n",
       "raj        6\n",
       "sumedh     5\n",
       "charu      5\n",
       "sampada    3\n",
       "hritik     3\n",
       "simran     2\n",
       "vivek      1\n",
       "jungmin    1\n",
       "zahra      1\n",
       "Name: winner, dtype: int64"
      ]
     },
     "execution_count": 111,
     "metadata": {},
     "output_type": "execute_result"
    }
   ],
   "source": [
    "game_stats"
   ]
  },
  {
   "cell_type": "markdown",
   "id": "437c69b7",
   "metadata": {},
   "source": [
    "# Plots"
   ]
  },
  {
   "cell_type": "code",
   "execution_count": 112,
   "id": "604f6cd7",
   "metadata": {
    "ExecuteTime": {
     "end_time": "2022-12-04T23:21:52.969093Z",
     "start_time": "2022-12-04T23:21:52.962443Z"
    }
   },
   "outputs": [
    {
     "data": {
      "text/plain": [
       "Index(['mavis', 'udiksha', 'raj', 'sumedh', 'charu', 'sampada', 'hritik',\n",
       "       'simran', 'vivek', 'jungmin', 'zahra'],\n",
       "      dtype='object')"
      ]
     },
     "execution_count": 112,
     "metadata": {},
     "output_type": "execute_result"
    }
   ],
   "source": [
    "game_stats.index"
   ]
  },
  {
   "cell_type": "markdown",
   "id": "7dec6f92",
   "metadata": {
    "ExecuteTime": {
     "end_time": "2022-12-04T22:35:51.303053Z",
     "start_time": "2022-12-04T22:35:51.210108Z"
    }
   },
   "source": [
    "\n",
    "# Plot the number of wins of player X, player Y, draws"
   ]
  },
  {
   "cell_type": "code",
   "execution_count": 115,
   "id": "f81228a2",
   "metadata": {
    "ExecuteTime": {
     "end_time": "2022-12-04T23:22:09.324410Z",
     "start_time": "2022-12-04T23:22:09.151354Z"
    }
   },
   "outputs": [
    {
     "data": {
      "image/png": "[encoded data removed]",
      "text/plain": [
       "<Figure size 640x480 with 1 Axes>"
      ]
     },
     "metadata": {},
     "output_type": "display_data"
    }
   ],
   "source": [
    "# Pie chart\n",
    "labels = game_stats.index\n",
    "sizes = game_stats\n",
    "# only \"explode\" the 2nd slice (i.e. 'Hogs')\n",
    "fig1, ax1 = plt.subplots()\n",
    "ax1.pie(sizes, labels=labels, autopct='%1.1f%%',\n",
    "        shadow=True, startangle=90)\n",
    "# Equal aspect ratio ensures that pie is drawn as a circle\n",
    "ax1.axis('equal')  \n",
    "plt.tight_layout()\n",
    "plt.show()"
   ]
  },
  {
   "cell_type": "code",
   "execution_count": null,
   "id": "104d580f",
   "metadata": {
    "ExecuteTime": {
     "end_time": "2022-12-04T23:22:19.150435Z",
     "start_time": "2022-12-04T23:22:19.107666Z"
    }
   },
   "outputs": [],
   "source": []
  },
  {
   "cell_type": "code",
   "execution_count": null,
   "id": "d875b87b",
   "metadata": {
    "ExecuteTime": {
     "end_time": "2022-12-04T23:11:06.057740Z",
     "start_time": "2022-12-04T23:11:06.047728Z"
    }
   },
   "outputs": [],
   "source": []
  },
  {
   "cell_type": "code",
   "execution_count": null,
   "id": "2df91ee0",
   "metadata": {
    "ExecuteTime": {
     "end_time": "2022-12-04T23:11:06.433063Z",
     "start_time": "2022-12-04T23:11:06.428699Z"
    }
   },
   "outputs": [],
   "source": []
  },
  {
   "cell_type": "code",
   "execution_count": null,
   "id": "acdb93ec",
   "metadata": {},
   "outputs": [],
   "source": []
  }
 ],
 "metadata": {
  "kernelspec": {
   "display_name": "Python 3",
   "language": "python",
   "name": "python3"
  },
  "language_info": {
   "codemirror_mode": {
    "name": "ipython",
    "version": 3
   },
   "file_extension": ".py",
   "mimetype": "text/x-python",
   "name": "python",
   "nbconvert_exporter": "python",
   "pygments_lexer": "ipython3",
   "version": "3.8.8"
  },
  "toc": {
   "base_numbering": 1,
   "nav_menu": {},
   "number_sections": true,
   "sideBar": true,
   "skip_h1_title": false,
   "title_cell": "Table of Contents",
   "title_sidebar": "Contents",
   "toc_cell": false,
   "toc_position": {},
   "toc_section_display": true,
   "toc_window_display": false
  }
 },
 "nbformat": 4,
 "nbformat_minor": 5
}
